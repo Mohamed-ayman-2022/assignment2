{
 "cells": [
  {
   "cell_type": "markdown",
   "id": "afea6478-a08b-49f9-ba00-8ab67c4d51b3",
   "metadata": {},
   "source": [
    "# Data Science Tools and Ecosystem"
   ]
  },
  {
   "cell_type": "markdown",
   "id": "f9730920-21b2-4570-aaa3-9793953d4f71",
   "metadata": {},
   "source": [
    "In this notebook, Data Science Tools and Ecosystem are summarized."
   ]
  },
  {
   "cell_type": "markdown",
   "id": "e3204b20-6973-4f44-960c-68a1f12e6b76",
   "metadata": {},
   "source": [
    "Some of the popular languages that Data Scientists use are:  \n",
    "1. Python\n",
    "2. R\n",
    "3. Sql\n",
    "4. Scala\n",
    "5. Julia"
   ]
  },
  {
   "cell_type": "markdown",
   "id": "3da6b0a9-027d-423f-bd11-fe4ea8d80725",
   "metadata": {},
   "source": [
    "Some of the commonly used libraries used by Data Scientists include:  \n",
    "1. numpy\n",
    "2. pandas\n",
    "3. matplotlib\n",
    "4. seaborn\n",
    "5. tensorflow\n",
    "6. Pytorch\n",
    "7. Sciki-learn"
   ]
  },
  {
   "cell_type": "markdown",
   "id": "8e3ec6b6-af81-486f-a6f6-3d96d6e45fad",
   "metadata": {},
   "source": [
    "| Data Science Tools |\n",
    "|--------------------|\n",
    "|   JupyterNotebook  |\n",
    "|   Rstudio          |\n",
    "|   Github           |"
   ]
  },
  {
   "cell_type": "markdown",
   "id": "d7a97899-ccab-4f44-9f31-5a2743d192a7",
   "metadata": {},
   "source": [
    "### Below are a few examples of evaluating arithmetic expressions in Python  \n",
    "| expression | example |\n",
    "|------------|---------|\n",
    "| addition   |   1 + 4 |\n",
    "| substraction | 5 - 2 |\n",
    "| Multiplication | 8 * 7 |\n",
    "| Division | 25 / 5 |\n",
    "| reminder | 10 % 2 |\n",
    "| exponent | 4 ** 3 |"
   ]
  },
  {
   "cell_type": "code",
   "execution_count": 2,
   "id": "4eecbbe8-06cd-4e71-bbd8-9233ce150d0e",
   "metadata": {},
   "outputs": [
    {
     "name": "stdout",
     "output_type": "stream",
     "text": [
      "17\n"
     ]
    }
   ],
   "source": [
    "# This a simple arithmetic expression to mutiply then add integers\n",
    "print((3 * 4) + 5)"
   ]
  },
  {
   "cell_type": "code",
   "execution_count": 4,
   "id": "d60e2498-e17f-409f-9184-0b2cd627fdfb",
   "metadata": {},
   "outputs": [
    {
     "name": "stdout",
     "output_type": "stream",
     "text": [
      "3.33\n"
     ]
    }
   ],
   "source": [
    "# This will convert 200 minutes to hours by diving by 60\n",
    "minutes = 200\n",
    "hours = round( minutes / 60, 2)\n",
    "print(hours)"
   ]
  },
  {
   "cell_type": "markdown",
   "id": "c188f370-4ff7-4932-bfff-75deada42d16",
   "metadata": {},
   "source": [
    "**Objectives:**  \n",
    "- List of Popular languages for data science\n",
    "- List of popular libraries for data science\n",
    "- Examples for Arithmatic expression in python\n",
    "- A code to multiply then add integers\n",
    "- A code to convert minutes to hours"
   ]
  },
  {
   "cell_type": "markdown",
   "id": "68b4a52c-bc07-4ed8-aad2-9e643c0e4f67",
   "metadata": {},
   "source": [
    "## Author  \n",
    "Mohamed Ayman"
   ]
  },
  {
   "cell_type": "code",
   "execution_count": null,
   "id": "5b8cca5b-bef7-43b6-ac23-0dadc431e8e8",
   "metadata": {},
   "outputs": [],
   "source": []
  }
 ],
 "metadata": {
  "kernelspec": {
   "display_name": "Python",
   "language": "python",
   "name": "conda-env-python-py"
  },
  "language_info": {
   "codemirror_mode": {
    "name": "ipython",
    "version": 3
   },
   "file_extension": ".py",
   "mimetype": "text/x-python",
   "name": "python",
   "nbconvert_exporter": "python",
   "pygments_lexer": "ipython3",
   "version": "3.7.12"
  }
 },
 "nbformat": 4,
 "nbformat_minor": 5
}
